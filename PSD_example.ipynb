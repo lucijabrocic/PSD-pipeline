{
 "cells": [
  {
   "cell_type": "code",
   "execution_count": 1,
   "id": "d533ffaf",
   "metadata": {},
   "outputs": [],
   "source": [
    "# load spacy's transformer language model\n",
    "import spacy\n",
    "nlp = spacy.load(\"en_core_web_trf\")"
   ]
  },
  {
   "cell_type": "code",
   "execution_count": 2,
   "id": "bac28a40",
   "metadata": {},
   "outputs": [
    {
     "name": "stderr",
     "output_type": "stream",
     "text": [
      "lerc is not a registered model.\n",
      "Some weights of the model checkpoint at bert-base-uncased were not used when initializing BertModel: ['cls.predictions.transform.LayerNorm.bias', 'cls.predictions.transform.LayerNorm.weight', 'cls.predictions.bias', 'cls.predictions.transform.dense.weight', 'cls.seq_relationship.weight', 'cls.predictions.transform.dense.bias', 'cls.predictions.decoder.weight', 'cls.seq_relationship.bias']\n",
      "- This IS expected if you are initializing BertModel from the checkpoint of a model trained on another task or with another architecture (e.g. initializing a BertForSequenceClassification model from a BertForPreTraining model).\n",
      "- This IS NOT expected if you are initializing BertModel from the checkpoint of a model that you expect to be exactly identical (initializing a BertForSequenceClassification model from a BertForSequenceClassification model).\n"
     ]
    },
    {
     "data": {
      "text/plain": [
       "<spacy.lang.en.English at 0x7fba7b02a520>"
      ]
     },
     "execution_count": 2,
     "metadata": {},
     "output_type": "execute_result"
    }
   ],
   "source": [
    "# add SRL component to spacy's processing pipeline\n",
    "from srl import *\n",
    "add_to_pipe(nlp)"
   ]
  },
  {
   "cell_type": "code",
   "execution_count": 3,
   "id": "b2c02ae7",
   "metadata": {},
   "outputs": [
    {
     "name": "stderr",
     "output_type": "stream",
     "text": [
      "lerc is not a registered model.\n",
      "Some weights of the model checkpoint at bert-base-uncased were not used when initializing BertModel: ['cls.predictions.transform.LayerNorm.bias', 'cls.predictions.transform.LayerNorm.weight', 'cls.predictions.bias', 'cls.predictions.transform.dense.weight', 'cls.seq_relationship.weight', 'cls.predictions.transform.dense.bias', 'cls.predictions.decoder.weight', 'cls.seq_relationship.bias']\n",
      "- This IS expected if you are initializing BertModel from the checkpoint of a model trained on another task or with another architecture (e.g. initializing a BertForSequenceClassification model from a BertForPreTraining model).\n",
      "- This IS NOT expected if you are initializing BertModel from the checkpoint of a model that you expect to be exactly identical (initializing a BertForSequenceClassification model from a BertForSequenceClassification model).\n"
     ]
    },
    {
     "name": "stdout",
     "output_type": "stream",
     "text": [
      "Model: ./psd_model_pos_dep.json\n"
     ]
    },
    {
     "data": {
      "text/plain": [
       "<spacy.lang.en.English at 0x7fba7b02a520>"
      ]
     },
     "execution_count": 3,
     "metadata": {},
     "output_type": "execute_result"
    }
   ],
   "source": [
    "# add roleset component to spacy's processing pipeline\n",
    "from roleset import *\n",
    "add_roleset_to_pipe(nlp)"
   ]
  },
  {
   "cell_type": "code",
   "execution_count": 4,
   "id": "c528166a",
   "metadata": {},
   "outputs": [
    {
     "name": "stderr",
     "output_type": "stream",
     "text": [
      "/Applications/anaconda3/envs/envPSDSpacy31/lib/python3.9/site-packages/torch/autocast_mode.py:141: UserWarning: User provided device_type of 'cuda', but CUDA is not available. Disabling\n",
      "  warnings.warn('User provided device_type of \\'cuda\\', but CUDA is not available. Disabling')\n"
     ]
    }
   ],
   "source": [
    "# example sentence\n",
    "text=\"I take a walk in the park. She went home.\"\n",
    "doc=nlp(text)"
   ]
  },
  {
   "cell_type": "markdown",
   "id": "1caac1c3",
   "metadata": {},
   "source": [
    "### Custom SRL attribute"
   ]
  },
  {
   "cell_type": "code",
   "execution_count": 5,
   "id": "67125b16",
   "metadata": {},
   "outputs": [
    {
     "data": {
      "text/plain": [
       "{take: [V: take, ARGM-PRR: walk],\n",
       " walk: [ARG0: I, ARGM-LVB: take, V: walk, ARGM-LOC: in the park],\n",
       " went: [ARG0: She, V: went, ARG4: home]}"
      ]
     },
     "execution_count": 5,
     "metadata": {},
     "output_type": "execute_result"
    }
   ],
   "source": [
    "# custom SRL attribute - Doc\n",
    "doc._.srl"
   ]
  },
  {
   "cell_type": "code",
   "execution_count": 6,
   "id": "058e6e22",
   "metadata": {},
   "outputs": [
    {
     "data": {
      "text/plain": [
       "{}"
      ]
     },
     "execution_count": 6,
     "metadata": {},
     "output_type": "execute_result"
    }
   ],
   "source": [
    "# custom SRL attribute - Span ??\n",
    "doc[:7]._.srl"
   ]
  },
  {
   "cell_type": "code",
   "execution_count": 7,
   "id": "b57a6497",
   "metadata": {},
   "outputs": [
    {
     "data": {
      "text/plain": [
       "{take: 'B-ARGM-PRR', walk: 'B-V'}"
      ]
     },
     "execution_count": 7,
     "metadata": {},
     "output_type": "execute_result"
    }
   ],
   "source": [
    "# custom SRL attribute - Token\n",
    "doc[3]._.srl"
   ]
  },
  {
   "cell_type": "markdown",
   "id": "9b376abb",
   "metadata": {},
   "source": [
    "### Custom roleset attribute"
   ]
  },
  {
   "cell_type": "code",
   "execution_count": 8,
   "id": "838220ff",
   "metadata": {},
   "outputs": [
    {
     "data": {
      "text/plain": [
       "[None,\n",
       " 'take.01',\n",
       " None,\n",
       " 'walk.01',\n",
       " None,\n",
       " None,\n",
       " None,\n",
       " None,\n",
       " None,\n",
       " 'go.02',\n",
       " None,\n",
       " None]"
      ]
     },
     "execution_count": 8,
     "metadata": {},
     "output_type": "execute_result"
    }
   ],
   "source": [
    "# custom roleset attribute - Doc\n",
    "doc._.roleset"
   ]
  },
  {
   "cell_type": "code",
   "execution_count": 9,
   "id": "377c1c06",
   "metadata": {},
   "outputs": [
    {
     "data": {
      "text/plain": [
       "[None, 'take.01', None]"
      ]
     },
     "execution_count": 9,
     "metadata": {},
     "output_type": "execute_result"
    }
   ],
   "source": [
    "# custom roleset attribute - Span\n",
    "doc[:3]._.roleset"
   ]
  },
  {
   "cell_type": "code",
   "execution_count": 10,
   "id": "93e8aa08",
   "metadata": {},
   "outputs": [
    {
     "data": {
      "text/plain": [
       "'walk.01'"
      ]
     },
     "execution_count": 10,
     "metadata": {},
     "output_type": "execute_result"
    }
   ],
   "source": [
    "# custom roleset attribute - Token\n",
    "doc[3]._.roleset"
   ]
  },
  {
   "cell_type": "code",
   "execution_count": 11,
   "id": "a3ce661e",
   "metadata": {},
   "outputs": [],
   "source": [
    "def print_doc(doc, lemma=True, pos=True, srl=True, roleset=True):\n",
    "    output=\"\"\n",
    "    \n",
    "    for sent in doc.sents:\n",
    "\n",
    "        max_text=max([len(token.text) for token in sent])\n",
    "        max_lemma=max([len(token.lemma_) for token in sent])\n",
    "        max_pos=max([len(token.tag_) for token in sent])\n",
    "        max_srl=[max([len(v) for token in sent for k,v in verb._.srl.items()]) for verb in sent._.srl]\n",
    "        max_roleset=max([len(token._.roleset) if token._.roleset else 0 for token in sent])\n",
    "        \n",
    "        # header\n",
    "        sent_output=\"TEXT\"+\" \"* (max_text-len(\"TEXT\")+5)\n",
    "        if lemma:\n",
    "            sent_output+=\"LEMMA\"+\" \"* (max_lemma-len(\"LEMMA\")+5)\n",
    "        if pos:\n",
    "            sent_output+=\"POS\"+\" \"* (max_pos-len(\"POS\")+10)\n",
    "        if srl:\n",
    "            for i, verb in enumerate(sent._.srl):\n",
    "                sent_output+=verb.text.lower()+\" \"* (max_srl[i]-len(verb.text)+5)\n",
    "        if roleset: sent_output+=\"ROLESET\"\n",
    "            \n",
    "        # sentence text + header\n",
    "        sent_output=\"Sentence: \"+ sent.text+\"\\n\"+\"-\"*len(sent_output)+\"\\n\"+sent_output+\"\\n\"+\"-\"*len(sent_output)+\"\\n\"\n",
    "        \n",
    "        #token annotation\n",
    "        for token in sent:\n",
    "            sent_output+=token.text+\" \"* (max_text-len(token.text)+5)\n",
    "            if lemma:\n",
    "                sent_output+=token.lemma_+\" \"* (max_lemma-len(token.lemma_)+5)\n",
    "\n",
    "            if pos:\n",
    "                sent_output+= token.tag_ + \" \"* (max_pos-len(token.tag_)+10)\n",
    "            if srl:\n",
    "                for i, item in enumerate(list(token._.srl.items())):\n",
    "                    sent_output+=token._.srl[item[0]]+ \" \"* (max_srl[i]-len(token._.srl[item[0]])+5)\n",
    "\n",
    "            if roleset:\n",
    "                sent_output+=str(token._.roleset)\n",
    "            sent_output+=\"\\n\"\n",
    "            \n",
    "        output+=sent_output+\"\\n\"*2\n",
    "    \n",
    "    print(output)\n",
    "    "
   ]
  },
  {
   "cell_type": "code",
   "execution_count": 12,
   "id": "d70adcfd",
   "metadata": {},
   "outputs": [
    {
     "name": "stdout",
     "output_type": "stream",
     "text": [
      "Sentence: I take a walk in the park.\n",
      "--------------------------------------------------------------------\n",
      "TEXT     LEMMA    POS          take           walk           ROLESET\n",
      "--------------------------------------------------------------------\n",
      "I        I        PRP          O              B-ARG0         None\n",
      "take     take     VBP          B-V            B-ARGM-LVB     take.01\n",
      "a        a        DT           O              O              None\n",
      "walk     walk     NN           B-ARGM-PRR     B-V            walk.01\n",
      "in       in       IN           O              B-ARGM-LOC     None\n",
      "the      the      DT           O              I-ARGM-LOC     None\n",
      "park     park     NN           O              I-ARGM-LOC     None\n",
      ".        .        .            O              O              None\n",
      "\n",
      "\n",
      "Sentence: She went home.\n",
      "----------------------------------------------\n",
      "TEXT     LEMMA    POS          went    ROLESET\n",
      "----------------------------------------------\n",
      "She      she      PRP          B-ARG0  None\n",
      "went     go       VBD          B-V     go.02\n",
      "home     home     NN           B-ARG4  None\n",
      ".        .        .            O       None\n",
      "\n",
      "\n",
      "\n"
     ]
    }
   ],
   "source": [
    "print_doc(doc)"
   ]
  },
  {
   "cell_type": "code",
   "execution_count": 13,
   "id": "50c7c71a",
   "metadata": {},
   "outputs": [
    {
     "name": "stdout",
     "output_type": "stream",
     "text": [
      "Sentence: I take a walk in the park.\n",
      "----------------------------------------------\n",
      "TEXT     take           walk           ROLESET\n",
      "----------------------------------------------\n",
      "I        O              B-ARG0         None\n",
      "take     B-V            B-ARGM-LVB     take.01\n",
      "a        O              O              None\n",
      "walk     B-ARGM-PRR     B-V            walk.01\n",
      "in       O              B-ARGM-LOC     None\n",
      "the      O              I-ARGM-LOC     None\n",
      "park     O              I-ARGM-LOC     None\n",
      ".        O              O              None\n",
      "\n",
      "\n",
      "Sentence: She went home.\n",
      "------------------------\n",
      "TEXT     went    ROLESET\n",
      "------------------------\n",
      "She      B-ARG0  None\n",
      "went     B-V     go.02\n",
      "home     B-ARG4  None\n",
      ".        O       None\n",
      "\n",
      "\n",
      "\n"
     ]
    }
   ],
   "source": [
    "# only SRL and roleset\n",
    "print_doc(doc, lemma=False, pos=False)"
   ]
  },
  {
   "cell_type": "code",
   "execution_count": null,
   "id": "ec81cdef",
   "metadata": {},
   "outputs": [],
   "source": []
  }
 ],
 "metadata": {
  "kernelspec": {
   "display_name": "Python 3 (ipykernel)",
   "language": "python",
   "name": "python3"
  },
  "language_info": {
   "codemirror_mode": {
    "name": "ipython",
    "version": 3
   },
   "file_extension": ".py",
   "mimetype": "text/x-python",
   "name": "python",
   "nbconvert_exporter": "python",
   "pygments_lexer": "ipython3",
   "version": "3.9.7"
  }
 },
 "nbformat": 4,
 "nbformat_minor": 5
}
